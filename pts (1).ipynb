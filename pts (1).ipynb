{
  "metadata": {
    "kernelspec": {
      "name": "python",
      "display_name": "Python (Pyodide)",
      "language": "python"
    },
    "language_info": {
      "codemirror_mode": {
        "name": "python",
        "version": 3
      },
      "file_extension": ".py",
      "mimetype": "text/x-python",
      "name": "python",
      "nbconvert_exporter": "python",
      "pygments_lexer": "ipython3",
      "version": "3.8"
    }
  },
  "nbformat_minor": 4,
  "nbformat": 4,
  "cells": [
    {
      "cell_type": "markdown",
      "source": "pipe and filter",
      "metadata": {}
    },
    {
      "cell_type": "code",
      "source": "from abc import ABC, abstractmethod\nfrom typing import List\n\n# Filter Abstract Base Class\nclass Filter(ABC):\n    @abstractmethod\n    def process(self, data: dict) -> dict:\n        pass\n\n# Concrete Filters (Examples of processing steps)\nclass SpeedFilter(Filter):\n    def process(self, data: dict) -> dict:\n        if 'speed' in data:\n            data['speed'] = data['speed'] * 1.1  # Increase speed by 10% (for example)\n        return data\n\nclass RouteFilter(Filter):\n    def process(self, data: dict) -> dict:\n        if 'route' in data:\n            data['route'] = f\"Optimized {data['route']}\"  # Mock route optimization\n        return data\n\n# Pipe to connect filters\nclass Pipe:\n    def __init__(self, filters: List[Filter]):\n        self.filters = filters\n\n    def process(self, data: dict) -> dict:\n        for filter in self.filters:\n            data = filter.process(data)\n        return data\n\n# TransportSystem orchestrating the data flow through the Pipe and Filters\nclass TransportSystem:\n    def __init__(self):\n        self.pipe = None\n    \n    def setup(self, filters: List[Filter]):\n        self.pipe = Pipe(filters)\n    \n    def process_data(self, data: dict) -> dict:\n        return self.pipe.process(data)\n",
      "metadata": {
        "trusted": true
      },
      "outputs": [],
      "execution_count": 11
    },
    {
      "cell_type": "markdown",
      "source": "Observer pattern",
      "metadata": {}
    },
    {
      "cell_type": "code",
      "source": "# Observer Pattern Implementation\n# Subject (Publisher)\nclass Subject(ABC):\n    def __init__(self):\n        self._observers = []\n    \n    def add_observer(self, observer):\n        self._observers.append(observer)\n    \n    def remove_observer(self, observer):\n        self._observers.remove(observer)\n    \n    def notify_observers(self):\n        for observer in self._observers:\n            observer.update(self._state)  # Pass the state to the observer\n\n# Observer (Subscriber)\nclass Observer(ABC):\n    @abstractmethod\n    def update(self, state: dict):  # Ensure this method accepts 'state'\n        pass\n\n# ConcreteSubject (specific subject being observed)\nclass TrafficSystem(Subject):\n    def __init__(self):\n        super().__init__()\n        self._state = {}\n    \n    def set_state(self, state: dict):\n        self._state = state\n        self.notify_observers()  # Notify observers after state change\n    \n    def get_state(self):\n        return self._state\n\n# ConcreteObserver\nclass VehicleMonitor(Observer):\n    def __init__(self, vehicle_id: str):\n        self.vehicle_id = vehicle_id\n    \n    def update(self, state: dict):  # Accept the state parameter\n        print(f\"Vehicle {self.vehicle_id} received update: {state}\")\n        # Here the vehicle could adjust its route, speed, or behavior\n\nclass TrafficLight(Observer):\n    def update(self, state: dict):  # Accept the state parameter\n        print(f\"Traffic Light changed: {state}\")\n        # Example: Change traffic light state based on updated traffic data\n",
      "metadata": {
        "trusted": true
      },
      "outputs": [],
      "execution_count": 12
    },
    {
      "cell_type": "markdown",
      "source": "LAYER ARCHITECTURE BUSINESS LAYER,PERESENTATION,DATA ACCESS",
      "metadata": {}
    },
    {
      "cell_type": "code",
      "source": "# Presentation Layer\nclass PresentationLayer:\n    def __init__(self, transport_system: TransportSystem):\n        self.transport_system = transport_system\n    \n    def show_data(self, data: dict):\n        print(\"Displaying processed transport data:\")\n        print(data)\n\n# Business Logic Layer\nclass BusinessLogicLayer:\n    def __init__(self, transport_system: TransportSystem):\n        self.transport_system = transport_system\n    \n    def calculate_route(self, vehicle_data: dict):\n        print(f\"Calculating optimized route for vehicle: {vehicle_data['vehicle_id']}\")\n        vehicle_data['route'] = 'Route A'\n        return vehicle_data\n    \n    def manage_traffic(self, traffic_data: dict):\n        print(f\"Managing traffic based on data: {traffic_data}\")\n        traffic_data['status'] = 'Clear'\n        return traffic_data\n\n# Data Access Layer (Mock database interaction)\nclass DataAccessLayer:\n    def __init__(self):\n        self.data = {}\n    \n    def store_data(self, data: dict):\n        print(f\"Storing data: {data}\")\n        self.data[data['vehicle_id']] = data\n    \n    def retrieve_data(self, vehicle_id: str):\n        return self.data.get(vehicle_id, None)\n",
      "metadata": {
        "trusted": true
      },
      "outputs": [],
      "execution_count": 13
    },
    {
      "cell_type": "markdown",
      "source": "PUTTING IT TOGETHER",
      "metadata": {}
    },
    {
      "cell_type": "code",
      "source": "# Main function to demonstrate the public transport system\n\ndef main():\n    # Setup the filters\n    speed_filter = SpeedFilter()\n    route_filter = RouteFilter()\n    transport_system = TransportSystem()\n    transport_system.setup([speed_filter, route_filter])\n\n    # Create vehicle data\n    vehicle_data = {\n        'vehicle_id': 'V123',\n        'speed': 50,  # Initial speed\n        'route': 'Route B',  # Initial route\n    }\n    \n    # Create Traffic System and Observers\n    traffic_system = TrafficSystem()\n    vehicle1 = VehicleMonitor('V123')\n    traffic_light = TrafficLight()\n    \n    traffic_system.add_observer(vehicle1)\n    traffic_system.add_observer(traffic_light)\n\n    # Create Layers\n    presentation_layer = PresentationLayer(transport_system)\n    business_logic_layer = BusinessLogicLayer(transport_system)\n    data_access_layer = DataAccessLayer()\n\n    # Business Logic: Calculate Route and Manage Traffic\n    updated_vehicle_data = business_logic_layer.calculate_route(vehicle_data)\n    updated_traffic_data = business_logic_layer.manage_traffic(updated_vehicle_data)\n\n    # Data Access Layer: Store Vehicle Data\n    data_access_layer.store_data(updated_traffic_data)\n\n    # Notify Observers of State Change\n    traffic_system.set_state(updated_traffic_data)\n    \n    # Process the data through filters (Pipe and Filter pattern)\n    processed_data = transport_system.process_data(updated_traffic_data)\n    \n    # Presentation Layer: Show Processed Data\n    presentation_layer.show_data(processed_data)\n\nif __name__ == \"__main__\":\n    main()\n",
      "metadata": {
        "trusted": true
      },
      "outputs": [
        {
          "name": "stdout",
          "text": "Calculating optimized route for vehicle: V123\nManaging traffic based on data: {'vehicle_id': 'V123', 'speed': 50, 'route': 'Route A'}\nStoring data: {'vehicle_id': 'V123', 'speed': 50, 'route': 'Route A', 'status': 'Clear'}\nVehicle V123 received update: {'vehicle_id': 'V123', 'speed': 50, 'route': 'Route A', 'status': 'Clear'}\nTraffic Light changed: {'vehicle_id': 'V123', 'speed': 50, 'route': 'Route A', 'status': 'Clear'}\nDisplaying processed transport data:\n{'vehicle_id': 'V123', 'speed': 55.00000000000001, 'route': 'Optimized Route A', 'status': 'Clear'}\n",
          "output_type": "stream"
        }
      ],
      "execution_count": 14
    },
    {
      "cell_type": "code",
      "source": "",
      "metadata": {
        "trusted": true
      },
      "outputs": [],
      "execution_count": null
    }
  ]
}